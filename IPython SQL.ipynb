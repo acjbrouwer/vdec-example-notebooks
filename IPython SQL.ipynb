{
 "cells": [
  {
   "cell_type": "markdown",
   "metadata": {},
   "source": [
    "Using the [IPython SQL](https://github.com/catherinedevlin/ipython-sql) notebook extension for easy interactive vDEC database access from within a Jupyter notebook."
   ]
  },
  {
   "cell_type": "code",
   "execution_count": 2,
   "metadata": {},
   "outputs": [],
   "source": [
    "%load_ext sql"
   ]
  },
  {
   "cell_type": "markdown",
   "metadata": {},
   "source": [
    "Connect using Oracle username and password."
   ]
  },
  {
   "cell_type": "code",
   "execution_count": 6,
   "metadata": {},
   "outputs": [
    {
     "data": {
      "text/plain": [
       "'Connected: brouwer@None'"
      ]
     },
     "execution_count": 6,
     "metadata": {},
     "output_type": "execute_result"
    }
   ],
   "source": [
    "%sql oracle://<username>:<password>@vdec"
   ]
  },
  {
   "cell_type": "markdown",
   "metadata": {},
   "source": [
    "Determine number of primary seismic stations."
   ]
  },
  {
   "cell_type": "code",
   "execution_count": 7,
   "metadata": {},
   "outputs": [
    {
     "name": "stdout",
     "output_type": "stream",
     "text": [
      "0 rows affected.\n"
     ]
    },
    {
     "data": {
      "text/html": [
       "<table>\n",
       "    <tr>\n",
       "        <th>COUNT(*)</th>\n",
       "    </tr>\n",
       "    <tr>\n",
       "        <td>46</td>\n",
       "    </tr>\n",
       "</table>"
      ],
      "text/plain": [
       "[(46,)]"
      ]
     },
     "execution_count": 7,
     "metadata": {},
     "output_type": "execute_result"
    }
   ],
   "source": [
    "%%sql\n",
    "select count(*) from static_ref.affiliation where net = 'CUR_PRI'"
   ]
  },
  {
   "cell_type": "markdown",
   "metadata": {},
   "source": [
    "Retrieve station codes of primary seismic stations as an alphabetically sorted list stored in variable `station_codes`."
   ]
  },
  {
   "cell_type": "code",
   "execution_count": 11,
   "metadata": {},
   "outputs": [
    {
     "name": "stdout",
     "output_type": "stream",
     "text": [
      "0 rows affected.\n",
      "+-------+\n",
      "|  sta  |\n",
      "+-------+\n",
      "| AKASG |\n",
      "| ARCES |\n",
      "|  ASAR |\n",
      "|  BDFB |\n",
      "|  BGCA |\n",
      "|  BJT  |\n",
      "|  BOSA |\n",
      "|  BRTR |\n",
      "|  CMAR |\n",
      "|  CPUP |\n",
      "|  DBIC |\n",
      "|  ESDC |\n",
      "| FINES |\n",
      "| GERES |\n",
      "|  GEYT |\n",
      "|  HIA  |\n",
      "|  ILAR |\n",
      "|  KBZ  |\n",
      "|  KEST |\n",
      "|  KMBO |\n",
      "|  KSRS |\n",
      "|  LPAZ |\n",
      "|  MAW  |\n",
      "|  MJAR |\n",
      "|  MKAR |\n",
      "|  NOA  |\n",
      "|  NRIK |\n",
      "|  NVAR |\n",
      "|  PDAR |\n",
      "|  PETK |\n",
      "|  PLCA |\n",
      "|  PPT  |\n",
      "|  ROSC |\n",
      "|  SCHQ |\n",
      "|  SONM |\n",
      "|  STKA |\n",
      "|  THR  |\n",
      "|  TORD |\n",
      "|  TXAR |\n",
      "|  ULM  |\n",
      "|  USRK |\n",
      "|  VNDA |\n",
      "|  WRA  |\n",
      "|  YKA  |\n",
      "|  ZAL  |\n",
      "|  ZALV |\n",
      "+-------+\n"
     ]
    }
   ],
   "source": [
    "station_codes = %sql select sta from static_ref.affiliation where net = 'CUR_PRI' order by sta\n",
    "print(station_codes)"
   ]
  }
 ],
 "metadata": {
  "kernelspec": {
   "display_name": "Python 3",
   "language": "python",
   "name": "python3"
  },
  "language_info": {
   "codemirror_mode": {
    "name": "ipython",
    "version": 3
   },
   "file_extension": ".py",
   "mimetype": "text/x-python",
   "name": "python",
   "nbconvert_exporter": "python",
   "pygments_lexer": "ipython3",
   "version": "3.6.4"
  }
 },
 "nbformat": 4,
 "nbformat_minor": 2
}
